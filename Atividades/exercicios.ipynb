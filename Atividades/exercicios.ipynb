{
 "cells": [
  {
   "cell_type": "markdown",
   "id": "c8e2f08b",
   "metadata": {},
   "source": [
    "# Atividade 1\n",
    "\n",
    "Você acaba de receber um arquivo com registros ambientais coletados em campo por equipes de monitoramento. Ele contém informações sobre espécies de macacos observadas na Amazônia, com dados como quantidade de indivíduos, localização, temperatura, umidade e se a espécie é alvo de conservação.\n",
    "Utilize a linguagem Python e a biblioteca pandas para carregar o arquivo CSV intitulado observacao_macacos_natura.csv e exibir as 5 primeiras linhas da tabela."
   ]
  },
  {
   "cell_type": "markdown",
   "id": "dd86376e",
   "metadata": {},
   "source": []
  },
  {
   "cell_type": "code",
   "execution_count": 2,
   "id": "e872f226",
   "metadata": {},
   "outputs": [
    {
     "name": "stdout",
     "output_type": "stream",
     "text": [
      "     ID        Espécie Local de Observação  Qtd Indivíduos  \\\n",
      "0  M001  Macaco-aranha    Serra do Divisor               1   \n",
      "1  M002  Macaco-aranha    Reserva Mamirauá              11   \n",
      "2  M003   Macaco-prego          APA Marajó               9   \n",
      "3  M004    Zogue-zogue  Parque Anavilhanas               8   \n",
      "4  M005  Macaco-aranha    Serra do Divisor               3   \n",
      "\n",
      "   Temperatura Média (°C)  Umidade Média (%) Alvo de Conservação  \n",
      "0                    28.7                 77                 Não  \n",
      "1                    27.3                 84                 Não  \n",
      "2                    29.2                 84                 Sim  \n",
      "3                    28.8                 81                 Sim  \n",
      "4                    30.3                 85                 Sim  \n"
     ]
    }
   ],
   "source": [
    "import pandas as pd\n",
    "\n",
    "df = pd.read_csv('observacao_macacos_natura.csv', sep=',')\n",
    "print(df.head(5))"
   ]
  }
 ],
 "metadata": {
  "kernelspec": {
   "display_name": "Python 3",
   "language": "python",
   "name": "python3"
  },
  "language_info": {
   "codemirror_mode": {
    "name": "ipython",
    "version": 3
   },
   "file_extension": ".py",
   "mimetype": "text/x-python",
   "name": "python",
   "nbconvert_exporter": "python",
   "pygments_lexer": "ipython3",
   "version": "3.13.5"
  }
 },
 "nbformat": 4,
 "nbformat_minor": 5
}
