{
 "cells": [
  {
   "cell_type": "markdown",
   "id": "c8e2f08b",
   "metadata": {},
   "source": [
    "# Atividade 1\n",
    "\n",
    "Você acaba de receber um arquivo com registros ambientais coletados em campo por equipes de monitoramento. Ele contém informações sobre espécies de macacos observadas na Amazônia, com dados como quantidade de indivíduos, localização, temperatura, umidade e se a espécie é alvo de conservação.\n",
    "Utilize a linguagem Python e a biblioteca pandas para carregar o arquivo CSV intitulado observacao_macacos_natura.csv e exibir as 5 primeiras linhas da tabela."
   ]
  },
  {
   "cell_type": "markdown",
   "id": "dd86376e",
   "metadata": {},
   "source": []
  },
  {
   "cell_type": "code",
   "execution_count": 33,
   "id": "e872f226",
   "metadata": {},
   "outputs": [
    {
     "name": "stdout",
     "output_type": "stream",
     "text": [
      "     ID        Espécie Local de Observação  Qtd Indivíduos  \\\n",
      "0  M001  Macaco-aranha    Serra do Divisor               1   \n",
      "1  M002  Macaco-aranha    Reserva Mamirauá              11   \n",
      "2  M003   Macaco-prego          APA Marajó               9   \n",
      "3  M004    Zogue-zogue  Parque Anavilhanas               8   \n",
      "4  M005  Macaco-aranha    Serra do Divisor               3   \n",
      "\n",
      "   Temperatura Média (°C)  Umidade Média (%) Alvo de Conservação  \n",
      "0                    28.7                 77                 Não  \n",
      "1                    27.3                 84                 Não  \n",
      "2                    29.2                 84                 Sim  \n",
      "3                    28.8                 81                 Sim  \n",
      "4                    30.3                 85                 Sim  \n"
     ]
    }
   ],
   "source": [
    "import pandas as pd\n",
    "\n",
    "df = pd.read_csv('observacao_macacos_natura.csv', sep=',')\n",
    "print(df.head(5))"
   ]
  },
  {
   "cell_type": "markdown",
   "id": "1ba96373",
   "metadata": {},
   "source": [
    "# Atividade 2 - Filtrando Espécies em Risco.\n",
    "\n",
    "A floresta está em alerta! Precisamos identificar apenas os registros em que as espécies estão marcadas como \"Alvo de Conservação\".\n",
    "Crie um código que filtre o DataFrame e exiba somente os registros onde a coluna Alvo de Conservação seja igual a \"Sim\". Exiba o total de registros encontrados"
   ]
  },
  {
   "cell_type": "code",
   "execution_count": 34,
   "id": "0e08c7dd",
   "metadata": {},
   "outputs": [
    {
     "name": "stdout",
     "output_type": "stream",
     "text": [
      "      ID        Espécie Local de Observação  Qtd Indivíduos  \\\n",
      "2   M003   Macaco-prego          APA Marajó               9   \n",
      "3   M004    Zogue-zogue  Parque Anavilhanas               8   \n",
      "4   M005  Macaco-aranha    Serra do Divisor               3   \n",
      "5   M006   Macaco-prego          APA Marajó               4   \n",
      "6   M007    Zogue-zogue          APA Marajó               5   \n",
      "7   M008   Macaco-prego          APA Marajó              10   \n",
      "8   M009         Uacari  Parque Anavilhanas              10   \n",
      "11  M012          Cuxiú    Floresta Tapajós               8   \n",
      "14  M015   Macaco-prego          APA Marajó              10   \n",
      "15  M016    Zogue-zogue    Reserva Mamirauá               3   \n",
      "17  M018    Zogue-zogue          APA Marajó               9   \n",
      "24  M025          Cuxiú    Floresta Tapajós               6   \n",
      "25  M026  Macaco-aranha          APA Marajó               8   \n",
      "27  M028         Uacari    Floresta Tapajós               8   \n",
      "33  M034         Uacari    Serra do Divisor              12   \n",
      "37  M038         Uacari    Floresta Tapajós               3   \n",
      "40  M041   Macaco-prego    Floresta Tapajós               4   \n",
      "42  M043          Cuxiú          APA Marajó               6   \n",
      "46  M047          Cuxiú    Serra do Divisor               3   \n",
      "47  M048         Uacari  Parque Anavilhanas               9   \n",
      "48  M049  Macaco-aranha    Serra do Divisor               6   \n",
      "\n",
      "    Temperatura Média (°C)  Umidade Média (%) Alvo de Conservação  \n",
      "2                     29.2                 84                 Sim  \n",
      "3                     28.8                 81                 Sim  \n",
      "4                     30.3                 85                 Sim  \n",
      "5                     29.4                 82                 Sim  \n",
      "6                     27.0                 91                 Sim  \n",
      "7                     27.9                 95                 Sim  \n",
      "8                     27.7                 76                 Sim  \n",
      "11                    29.2                 91                 Sim  \n",
      "14                    29.3                 79                 Sim  \n",
      "15                    27.9                 90                 Sim  \n",
      "17                    31.1                 83                 Sim  \n",
      "24                    30.4                 78                 Sim  \n",
      "25                    29.7                 92                 Sim  \n",
      "27                    27.9                 93                 Sim  \n",
      "33                    27.5                 84                 Sim  \n",
      "37                    27.5                 86                 Sim  \n",
      "40                    29.8                 79                 Sim  \n",
      "42                    29.5                 85                 Sim  \n",
      "46                    28.7                 95                 Sim  \n",
      "47                    30.8                 91                 Sim  \n",
      "48                    29.6                 95                 Sim  \n",
      "Total de registros encontrados: 21\n"
     ]
    }
   ],
   "source": [
    "df_sim = df[df['Alvo de Conservação'].str.contains('sim', case=False, na=False)]\n",
    "print(df_sim)\n",
    "print(f\"Total de registros encontrados: {len(df_sim)}\")"
   ]
  },
  {
   "cell_type": "markdown",
   "id": "43d305c5",
   "metadata": {},
   "source": [
    "# Atividade 3 - Identificando Regiões de Calor Crítico.\n",
    "Algumas regiões da Amazônia apresentaram temperaturas ambientais acima do limite de segurança para determinadas espécies.\n",
    "Filtre e exiba os locais onde a Temperatura Média foi superior a 30.0°C. Utilize o método query() ou uma condição com o operador >."
   ]
  },
  {
   "cell_type": "code",
   "execution_count": 35,
   "id": "6ae1fa6b",
   "metadata": {},
   "outputs": [
    {
     "name": "stdout",
     "output_type": "stream",
     "text": [
      "      ID        Espécie Local de Observação  Qtd Indivíduos  \\\n",
      "4   M005  Macaco-aranha    Serra do Divisor               3   \n",
      "10  M011  Macaco-aranha  Parque Anavilhanas               7   \n",
      "13  M014    Zogue-zogue    Floresta Tapajós               3   \n",
      "17  M018    Zogue-zogue          APA Marajó               9   \n",
      "18  M019    Zogue-zogue          APA Marajó               2   \n",
      "24  M025          Cuxiú    Floresta Tapajós               6   \n",
      "30  M031    Zogue-zogue  Parque Anavilhanas               3   \n",
      "47  M048         Uacari  Parque Anavilhanas               9   \n",
      "\n",
      "    Temperatura Média (°C)  Umidade Média (%) Alvo de Conservação  \n",
      "4                     30.3                 85                 Sim  \n",
      "10                    31.2                 88                 Não  \n",
      "13                    30.2                 76                 Não  \n",
      "17                    31.1                 83                 Sim  \n",
      "18                    30.2                 93                 Não  \n",
      "24                    30.4                 78                 Sim  \n",
      "30                    30.1                 89                 Não  \n",
      "47                    30.8                 91                 Sim  \n",
      "Quantidade de temperaturas acima do limite: 8\n"
     ]
    }
   ],
   "source": [
    "df_30 = df[df['Temperatura Média (°C)'] > 30.0]\n",
    "print(df_30)\n",
    "print(f\"Quantidade de temperaturas acima do limite: {len(df_30)}\")"
   ]
  },
  {
   "cell_type": "markdown",
   "id": "892f2118",
   "metadata": {},
   "source": [
    "# Atividade 4 - Cruzando Temperatura e Umidade.\n",
    "Queremos saber quais registros indicam alta temperatura e baixa umidade, condições preocupantes para a sobrevivência de primatas.\n",
    "Utilize duas condições ao mesmo tempo: selecione os registros onde Temperatura Média (°C) seja maior que 30 e Umidade Média (%) menor que 80. Exiba o resultado."
   ]
  },
  {
   "cell_type": "code",
   "execution_count": 46,
   "id": "81fd3258",
   "metadata": {},
   "outputs": [
    {
     "name": "stdout",
     "output_type": "stream",
     "text": [
      "      ID      Espécie Local de Observação  Qtd Indivíduos  \\\n",
      "13  M014  Zogue-zogue    Floresta Tapajós               3   \n",
      "24  M025        Cuxiú    Floresta Tapajós               6   \n",
      "\n",
      "    Temperatura Média (°C)  Umidade Média (%) Alvo de Conservação  \n",
      "13                    30.2                 76                 Não  \n",
      "24                    30.4                 78                 Sim  \n",
      "Quantidade: 2\n"
     ]
    }
   ],
   "source": [
    "df_30_80 = df[(df['Temperatura Média (°C)'] > 30.0) & (df['Umidade Média (%)'] < 80.0)]\n",
    "print(df_30_80)\n",
    "print(f\"Quantidade: {len(df_30_80)}\")\n"
   ]
  },
  {
   "cell_type": "markdown",
   "id": "ded89316",
   "metadata": {},
   "source": [
    "# Atividade 5 - Localizando Informações Específicas.\n",
    "Um pesquisador quer investigar apenas os dados de um determinado local, por exemplo: \"Reserva Mamirauá\".\n",
    "Peça ao usuário que digite o nome de um local de observação e filtre o DataFrame para mostrar os registros apenas daquele local. Use o método .isin() ou .str.contains()."
   ]
  },
  {
   "cell_type": "code",
   "execution_count": 58,
   "id": "2ae28fa4",
   "metadata": {},
   "outputs": [
    {
     "name": "stdout",
     "output_type": "stream",
     "text": [
      "      ID        Espécie Local de Observação  Qtd Indivíduos  \\\n",
      "0   M001  Macaco-aranha    Serra do Divisor               1   \n",
      "4   M005  Macaco-aranha    Serra do Divisor               3   \n",
      "12  M013         Uacari    Serra do Divisor               2   \n",
      "21  M022   Macaco-prego    Serra do Divisor               4   \n",
      "33  M034         Uacari    Serra do Divisor              12   \n",
      "46  M047          Cuxiú    Serra do Divisor               3   \n",
      "48  M049  Macaco-aranha    Serra do Divisor               6   \n",
      "49  M050   Macaco-prego    Serra do Divisor               9   \n",
      "\n",
      "    Temperatura Média (°C)  Umidade Média (%) Alvo de Conservação  \n",
      "0                     28.7                 77                 Não  \n",
      "4                     30.3                 85                 Sim  \n",
      "12                    27.4                 84                 Não  \n",
      "21                    29.4                 89                 Não  \n",
      "33                    27.5                 84                 Sim  \n",
      "46                    28.7                 95                 Sim  \n",
      "48                    29.6                 95                 Sim  \n",
      "49                    28.1                 95                 Não  \n"
     ]
    }
   ],
   "source": [
    "local = input(\"Diga o local de observação: \")\n",
    "\n",
    "df_local = df[df['Local de Observação'].str.contains(local, case=False)]\n",
    "print (df_local)"
   ]
  }
 ],
 "metadata": {
  "kernelspec": {
   "display_name": "Python 3",
   "language": "python",
   "name": "python3"
  },
  "language_info": {
   "codemirror_mode": {
    "name": "ipython",
    "version": 3
   },
   "file_extension": ".py",
   "mimetype": "text/x-python",
   "name": "python",
   "nbconvert_exporter": "python",
   "pygments_lexer": "ipython3",
   "version": "3.13.5"
  }
 },
 "nbformat": 4,
 "nbformat_minor": 5
}
