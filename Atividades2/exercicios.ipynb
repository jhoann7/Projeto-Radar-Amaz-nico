{
 "cells": [
  {
   "cell_type": "markdown",
   "id": "28101586",
   "metadata": {},
   "source": [
    "# Atividade 1 - Remover Duplicações e Tratar Ausências.\n",
    "Antes de realizar qualquer análise, é essencial garantir a integridade dos dados. Remova registros duplicados e preencha os valores ausentes com estratégias adequadas."
   ]
  },
  {
   "cell_type": "code",
   "execution_count": 40,
   "id": "1bfd748a",
   "metadata": {},
   "outputs": [],
   "source": [
    "import pandas as pd\n",
    "\n",
    "# Lendo arquivo csv.\n",
    "df = pd.read_csv('radar_amazonico_base.csv', sep=',')\n",
    "# Removendo linhas duplicadas.\n",
    "df.drop_duplicates()\n",
    "# Trocando o tipo da coluna para datetime.\n",
    "df['Data da Observação'] = pd.to_datetime(df['Data da Observação'])\n",
    "\n",
    "# Tirando média de colunas do tipo Float\n",
    "df_medianIndividuos = df['Qtd Indivíduos'].median()\n",
    "df_medianTemperatura = df['Temperatura Média (°C)'].median()\n",
    "df_medianUmidade = df['Umidade Média (%)'].median()\n",
    "\n",
    "# Tratando valores nulos\n",
    "df['Qtd Indivíduos'] = df['Qtd Indivíduos'].fillna(df_medianIndividuos)\n",
    "df['Temperatura Média (°C)'] = df['Temperatura Média (°C)'].fillna(df_medianTemperatura)\n",
    "df['Umidade Média (%)'] = df['Umidade Média (%)'].fillna(df_medianUmidade)\n",
    "df['Espécie Observada'] = df['Espécie Observada'].fillna('Não informado')\n",
    "\n",
    "df.to_csv('df_radar_amazonico_tratado.csv', index=False)"
   ]
  },
  {
   "cell_type": "markdown",
   "id": "4a3af31a",
   "metadata": {},
   "source": [
    "# Atividade 2 - Total de Indivíduos Observados por Município.\n",
    "Some a quantidade de indivíduos observados em cada município. Qual região apresenta a maior concentração populacional de fauna?"
   ]
  },
  {
   "cell_type": "code",
   "execution_count": null,
   "id": "cbfe509d",
   "metadata": {},
   "outputs": [],
   "source": [
    "df.groupby('Município')['']"
   ]
  }
 ],
 "metadata": {
  "kernelspec": {
   "display_name": "Python 3",
   "language": "python",
   "name": "python3"
  },
  "language_info": {
   "codemirror_mode": {
    "name": "ipython",
    "version": 3
   },
   "file_extension": ".py",
   "mimetype": "text/x-python",
   "name": "python",
   "nbconvert_exporter": "python",
   "pygments_lexer": "ipython3",
   "version": "3.13.5"
  }
 },
 "nbformat": 4,
 "nbformat_minor": 5
}
